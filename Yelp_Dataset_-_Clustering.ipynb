{
 "cells": [
  {
   "cell_type": "markdown",
   "metadata": {},
   "source": [
    "# Yelp Data Challenge - Clustering Analysis\n",
    "Summary: \n",
    "- From Setiment analysis, I come to the conclusion that rating score is unreasonable in 4-5 stars cases and 1-2 stars cases. I suggest to replace 1-5 rating system with like/dislike or below_average/average/above_average systems. Here I want to determine which one is better through clustering analysis.\n",
    "- The clutsering method is K-means. It turns out that three clusters (below_average/average/above_average) has better performance than two clusters (like/dislike).\n"
   ]
  },
  {
   "cell_type": "code",
   "execution_count": 1,
   "metadata": {},
   "outputs": [],
   "source": [
    "import pandas as pd\n",
    "import numpy as np\n",
    "import matplotlib.pyplot as plt\n",
    "% matplotlib inline\n",
    "plt.style.use(\"ggplot\")"
   ]
  },
  {
   "cell_type": "code",
   "execution_count": 2,
   "metadata": {},
   "outputs": [
    {
     "data": {
      "text/html": [
       "<div>\n",
       "<style scoped>\n",
       "    .dataframe tbody tr th:only-of-type {\n",
       "        vertical-align: middle;\n",
       "    }\n",
       "\n",
       "    .dataframe tbody tr th {\n",
       "        vertical-align: top;\n",
       "    }\n",
       "\n",
       "    .dataframe thead th {\n",
       "        text-align: right;\n",
       "    }\n",
       "</style>\n",
       "<table border=\"1\" class=\"dataframe\">\n",
       "  <thead>\n",
       "    <tr style=\"text-align: right;\">\n",
       "      <th></th>\n",
       "      <th>business_id</th>\n",
       "      <th>name</th>\n",
       "      <th>categories</th>\n",
       "      <th>avg_stars</th>\n",
       "      <th>cool</th>\n",
       "      <th>date</th>\n",
       "      <th>funny</th>\n",
       "      <th>review_id</th>\n",
       "      <th>stars</th>\n",
       "      <th>text</th>\n",
       "      <th>useful</th>\n",
       "      <th>user_id</th>\n",
       "    </tr>\n",
       "  </thead>\n",
       "  <tbody>\n",
       "    <tr>\n",
       "      <th>6</th>\n",
       "      <td>--9e1ONYQuAa-CB_Rrw7Tw</td>\n",
       "      <td>Delmonico Steakhouse</td>\n",
       "      <td>['Cajun/Creole', 'Steakhouses', 'Restaurants']</td>\n",
       "      <td>4.0</td>\n",
       "      <td>0</td>\n",
       "      <td>2017-02-14</td>\n",
       "      <td>0</td>\n",
       "      <td>Xp3ppynEvVu1KxDHQ3ae8w</td>\n",
       "      <td>5</td>\n",
       "      <td>Delmonico Steakhouse is a steakhouse owned by ...</td>\n",
       "      <td>0</td>\n",
       "      <td>KC8H7qTZVPIEnanw9fG43g</td>\n",
       "    </tr>\n",
       "    <tr>\n",
       "      <th>9</th>\n",
       "      <td>--9e1ONYQuAa-CB_Rrw7Tw</td>\n",
       "      <td>Delmonico Steakhouse</td>\n",
       "      <td>['Cajun/Creole', 'Steakhouses', 'Restaurants']</td>\n",
       "      <td>4.0</td>\n",
       "      <td>1</td>\n",
       "      <td>2017-05-28</td>\n",
       "      <td>0</td>\n",
       "      <td>LEzphAnz0vKE32PUCbjLgQ</td>\n",
       "      <td>4</td>\n",
       "      <td>One of the top steak places I've had in Vegas ...</td>\n",
       "      <td>2</td>\n",
       "      <td>3RTesI_MAwct13LWm4rhLw</td>\n",
       "    </tr>\n",
       "  </tbody>\n",
       "</table>\n",
       "</div>"
      ],
      "text/plain": [
       "              business_id                  name  \\\n",
       "6  --9e1ONYQuAa-CB_Rrw7Tw  Delmonico Steakhouse   \n",
       "9  --9e1ONYQuAa-CB_Rrw7Tw  Delmonico Steakhouse   \n",
       "\n",
       "                                       categories  avg_stars  cool  \\\n",
       "6  ['Cajun/Creole', 'Steakhouses', 'Restaurants']        4.0     0   \n",
       "9  ['Cajun/Creole', 'Steakhouses', 'Restaurants']        4.0     1   \n",
       "\n",
       "         date  funny               review_id  stars  \\\n",
       "6  2017-02-14      0  Xp3ppynEvVu1KxDHQ3ae8w      5   \n",
       "9  2017-05-28      0  LEzphAnz0vKE32PUCbjLgQ      4   \n",
       "\n",
       "                                                text  useful  \\\n",
       "6  Delmonico Steakhouse is a steakhouse owned by ...       0   \n",
       "9  One of the top steak places I've had in Vegas ...       2   \n",
       "\n",
       "                  user_id  \n",
       "6  KC8H7qTZVPIEnanw9fG43g  \n",
       "9  3RTesI_MAwct13LWm4rhLw  "
      ]
     },
     "execution_count": 2,
     "metadata": {},
     "output_type": "execute_result"
    }
   ],
   "source": [
    "df = pd.read_csv('/Users/LiangTan/Documents/BitTigerDS/Yelp/Yelp_Data_Challenge_Project/dataset/last_year_restaurant_reviews.csv')\n",
    "df.head(2)"
   ]
  },
  {
   "cell_type": "markdown",
   "metadata": {},
   "source": [
    "# Cluster the review text data for all the restaurants"
   ]
  },
  {
   "cell_type": "markdown",
   "metadata": {},
   "source": [
    "#### 1. Define my feature variables - the text of the review"
   ]
  },
  {
   "cell_type": "code",
   "execution_count": 3,
   "metadata": {},
   "outputs": [],
   "source": [
    "documents = df['text']"
   ]
  },
  {
   "cell_type": "markdown",
   "metadata": {},
   "source": [
    "#### 2. Create training dataset and test dataset"
   ]
  },
  {
   "cell_type": "code",
   "execution_count": 4,
   "metadata": {},
   "outputs": [
    {
     "name": "stderr",
     "output_type": "stream",
     "text": [
      "/Users/LiangTan/anaconda3/lib/python3.6/site-packages/sklearn/cross_validation.py:41: DeprecationWarning: This module was deprecated in version 0.18 in favor of the model_selection module into which all the refactored classes and functions are moved. Also note that the interface of the new CV iterators are different from that of this module. This module will be removed in 0.20.\n",
      "  \"This module will be removed in 0.20.\", DeprecationWarning)\n"
     ]
    }
   ],
   "source": [
    "from sklearn.cross_validation import train_test_split\n",
    "# The clsutering algorithms is slow so I will take samples to find optima number of clusters\n",
    "documents_train, documents_test= train_test_split(documents, test_size=0.3)"
   ]
  },
  {
   "cell_type": "markdown",
   "metadata": {},
   "source": [
    "#### 3. Get NLP representation of the documents"
   ]
  },
  {
   "cell_type": "code",
   "execution_count": 5,
   "metadata": {},
   "outputs": [],
   "source": [
    "from sklearn.feature_extraction.text import TfidfVectorizer\n",
    "# Create TfidfVectorizer\n",
    "vectorizer = TfidfVectorizer(analyzer = 'word', stop_words = 'english', \n",
    "                             lowercase = True, max_features = 5000\n",
    "                            )\n",
    "# Train the model with my training data\n",
    "documents_train_vec = vectorizer.fit_transform(documents_train).toarray()\n",
    "# Get the vocab of my tfidf\n",
    "words = vectorizer.get_feature_names()\n",
    "# Use the trained model to transform all the reviews\n",
    "documents_vec = vectorizer.transform(documents).toarray()"
   ]
  },
  {
   "cell_type": "markdown",
   "metadata": {},
   "source": [
    "#### 4. Cluster reviews with KMeans (two clusters)"
   ]
  },
  {
   "cell_type": "markdown",
   "metadata": {},
   "source": [
    "Fit k-means clustering with the training vectors and apply it on all the data"
   ]
  },
  {
   "cell_type": "code",
   "execution_count": 6,
   "metadata": {},
   "outputs": [
    {
     "data": {
      "text/plain": [
       "KMeans(algorithm='auto', copy_x=True, init='k-means++', max_iter=300,\n",
       "    n_clusters=2, n_init=10, n_jobs=1, precompute_distances='auto',\n",
       "    random_state=None, tol=0.0001, verbose=0)"
      ]
     },
     "execution_count": 6,
     "metadata": {},
     "output_type": "execute_result"
    }
   ],
   "source": [
    "from sklearn.cluster import KMeans\n",
    "km_clf = KMeans(verbose = 0,n_clusters = 2)\n",
    "km_clf.fit(documents_train_vec)"
   ]
  },
  {
   "cell_type": "markdown",
   "metadata": {},
   "source": [
    "#### 5. Make predictions on all your data"
   ]
  },
  {
   "cell_type": "code",
   "execution_count": 7,
   "metadata": {},
   "outputs": [],
   "source": [
    "cluster = km_clf.predict(documents_vec)"
   ]
  },
  {
   "cell_type": "markdown",
   "metadata": {},
   "source": [
    "#### 6. Inspect the centroids\n",
    "To find out what \"topics\" Kmeans has discovered I must inspect the centroids. Print out the centroids of the Kmeans clustering.\n",
    "These centroids are simply a bunch of vectors.  To make any sense of them I need to map these vectors back into 'word space'.  Think of each feature/dimension of the centroid vector as representing the \"average\" review or the average occurances of words for that cluster."
   ]
  },
  {
   "cell_type": "code",
   "execution_count": 8,
   "metadata": {},
   "outputs": [
    {
     "data": {
      "text/plain": [
       "array([[5.12012020e-04, 7.61292393e-05, 3.80931978e-03, ...,\n",
       "        2.10223635e-04, 8.32331572e-05, 3.02091912e-04],\n",
       "       [2.48614214e-03, 2.90765899e-04, 8.00771057e-03, ...,\n",
       "        1.38446230e-03, 1.41921420e-04, 6.51843630e-04]])"
      ]
     },
     "execution_count": 8,
     "metadata": {},
     "output_type": "execute_result"
    }
   ],
   "source": [
    "km_clf.cluster_centers_"
   ]
  },
  {
   "cell_type": "markdown",
   "metadata": {},
   "source": [
    "#### 7. Find the top 20 features for each cluster.\n",
    "For topics I am only really interested in the most present words, i.e. features/dimensions with the greatest representation in the centroid.  Print out the top ten words for each centroid.\n",
    "\n",
    "* Sort each centroid vector to find the top 10 features\n",
    "* Go back to my vectorizer object to find out what words each of these features corresponds to.\n"
   ]
  },
  {
   "cell_type": "code",
   "execution_count": 10,
   "metadata": {},
   "outputs": [
    {
     "name": "stdout",
     "output_type": "stream",
     "text": [
      "0: great, food, service, place, amazing, good, friendly, love, best, staff, vegas, definitely, delicious, recommend, awesome, excellent, time, atmosphere, nice, restaurant, come, sushi, really, fresh, highly, try, favorite, experience, ve, customer, eat, super, server, menu, breakfast, prices, fast, clean, las, coming\n",
      "1: good, food, place, just, like, time, ordered, order, chicken, service, really, got, came, don, vegas, pizza, ve, restaurant, try, delicious, best, come, didn, nice, menu, wait, eat, great, little, better, definitely, pretty, burger, went, cheese, fries, sauce, did, love, minutes\n"
     ]
    }
   ],
   "source": [
    "cluster_top_features = list()\n",
    "for i in range(km_clf.n_clusters):\n",
    "    cluster_top_features.append(np.argsort(km_clf.cluster_centers_[i])[::-1][:40])\n",
    "for num, centroid in enumerate(cluster_top_ten):\n",
    "    print ('%d: %s' % (num, \", \".join(words[i] for i in centroid)))"
   ]
  },
  {
   "cell_type": "markdown",
   "metadata": {},
   "source": [
    "It seems that two clusters are both for positive reviews. This is quite strange. Print out the rating and review of a random sample of the reviews assigned to each cluster to get a sense of the cluster."
   ]
  },
  {
   "cell_type": "code",
   "execution_count": 16,
   "metadata": {},
   "outputs": [
    {
     "name": "stdout",
     "output_type": "stream",
     "text": [
      "The cluster is 1.\n",
      "The star is: 5 stars.\n",
      "The review is:\n",
      "Our favorite restaurant in Vegas just got better!  The premium omakase was the best that we've ever had here.  The roasted fresh Alaskan King Crab was the ultimate indulgence.  Can't say enough.  The food was fresh and well prepared, the staff was great and it made our anniversary a special one..\n",
      "\n",
      "The cluster is 2.\n",
      "The star is: 4 stars.\n",
      "The review is:\n",
      "Went in the other night and really enjoyed my visit. The bartenders were very friendly and greeted me as soon as I sat down. They were both very attentive. I ordered some food to take home. The mushroom Swiss burger was really good. The chicken philly was a little lack luster but it tasted ok. The cheese was just on half of the sandwich and it could have really used some kind of sauce like mayo on it. \n",
      "I'll definitely be going back again just probably won't be ordering the chicken philly again..\n",
      "\n"
     ]
    }
   ],
   "source": [
    "for i in range(km_clf.n_clusters):\n",
    "    sub_cluster = np.arange(0, cluster.shape[0])[cluster == i]\n",
    "    sample = np.random.choice(sub_cluster, 1)\n",
    "    print(\"The cluster is %d.\" % (i+1))\n",
    "    print(\"The star is: %s stars.\" % df['stars'].iloc[sample[0]])\n",
    "    print(\"The review is:\\n%s.\\n\" % df['text'].iloc[sample[0]])"
   ]
  },
  {
   "cell_type": "markdown",
   "metadata": {},
   "source": [
    "#### 8. Try different k = 3"
   ]
  },
  {
   "cell_type": "code",
   "execution_count": 11,
   "metadata": {},
   "outputs": [
    {
     "data": {
      "text/plain": [
       "KMeans(algorithm='auto', copy_x=True, init='k-means++', max_iter=300,\n",
       "    n_clusters=3, n_init=10, n_jobs=1, precompute_distances='auto',\n",
       "    random_state=None, tol=0.0001, verbose=0)"
      ]
     },
     "execution_count": 11,
     "metadata": {},
     "output_type": "execute_result"
    }
   ],
   "source": [
    "# To be implemented\n",
    "km_3_clusters = KMeans(verbose = 0, n_clusters = 3)\n",
    "km_3_clusters.fit(documents_train_vec)"
   ]
  },
  {
   "cell_type": "code",
   "execution_count": 13,
   "metadata": {},
   "outputs": [
    {
     "name": "stdout",
     "output_type": "stream",
     "text": [
      "1: good,food,place,chicken,like,best,really,vegas,just,delicious,ordered,time,service,try,ve,restaurant,love,nice,definitely,got,menu,great,amazing,fresh,come,little,eat,burger,don,pretty,came,sushi,fries,sauce,friendly,rice,better,favorite,cheese,staff\n",
      "2: great,food,service,place,amazing,good,friendly,staff,love,definitely,best,vegas,delicious,awesome,excellent,recommend,time,atmosphere,nice,come,restaurant,really,customer,experience,highly,fresh,server,try,sushi,prices,drinks,eat,favorite,super,menu,breakfast,ve,fast,clean,coming\n",
      "3: pizza,order,food,time,minutes,just,service,came,didn,like,place,got,ordered,said,asked,good,wait,took,don,table,told,people,manager,come,server,customer,did,went,bad,really,waited,restaurant,know,10,long,waiting,location,wasn,rude,ve\n"
     ]
    }
   ],
   "source": [
    "cluster_top_features = list()\n",
    "for i in range(km_3_clusters.n_clusters):\n",
    "    cluster_top_features.append(np.argsort(km_3_clusters.cluster_centers_[i])[::-1][:40])\n",
    "for num, centroid in enumerate(cluster_top_features):\n",
    "    print ('%d: %s' % (num+1, \",\".join(words[i] for i in centroid)))"
   ]
  },
  {
   "cell_type": "markdown",
   "metadata": {},
   "source": [
    "It seems that three clusters can get the positive, negative and in-between types."
   ]
  },
  {
   "cell_type": "code",
   "execution_count": 14,
   "metadata": {},
   "outputs": [],
   "source": [
    "three_cluster_pred = km_3_clusters.predict(documents_vec)"
   ]
  },
  {
   "cell_type": "markdown",
   "metadata": {},
   "source": [
    "Print out the rating and review of a random sample of the reviews assigned to each cluster to get a sense of the cluster."
   ]
  },
  {
   "cell_type": "code",
   "execution_count": 15,
   "metadata": {},
   "outputs": [
    {
     "name": "stdout",
     "output_type": "stream",
     "text": [
      "The cluster is 1.\n",
      "The star is: 4 stars.\n",
      "The review is:\n",
      "At the Venetian and wanted something quick to go, I decided on getting a gourmet burger from a restaurant owned by chefs Mario Batali and Joe Bastianich -  \"B&B\" for Burger and Beer or Batali and Bastianich - I guess it can go either way.\n",
      "\n",
      "While waiting at the bar for my \"Drive Thru\" takeout cheeseburger, the waitress was kind enough to offer me a fountain drink as my order was taking longer than expected, \n",
      "\n",
      "The burger was big and moist oozing with cheese and prepared just right. The staff was friendly and service was great! I would recommend B&B in Vegas if you are looking for a decent burger in a casual dining environment..\n",
      "\n",
      "The cluster is 2.\n",
      "The star is: 5 stars.\n",
      "The review is:\n",
      "In town once a year always take business friends with me, great food and service.\n",
      "Looking forward to next years meal..\n",
      "\n",
      "The cluster is 3.\n",
      "The star is: 1 stars.\n",
      "The review is:\n",
      "They refused to give me service for not having an ID!!! Ridiculous they should hv a sign stating u need ur ID WEN U HV UR DEBIT CARD!! Waited 25 minutes for bullshit service!! Don't go here.\n",
      "\n"
     ]
    }
   ],
   "source": [
    "for i in range(km_3_clusters.n_clusters):\n",
    "    sub_cluster = np.arange(0, three_cluster_pred.shape[0])[three_cluster_pred == i]\n",
    "    sample = np.random.choice(sub_cluster, 1)\n",
    "    print(\"The cluster is %d.\" % (i+1))\n",
    "    print(\"The star is: %s stars.\" % df['stars'].iloc[sample[0]])\n",
    "    print(\"The review is:\\n%s.\\n\" % df['text'].iloc[sample[0]])"
   ]
  }
 ],
 "metadata": {
  "anaconda-cloud": {},
  "kernelspec": {
   "display_name": "Python(conda)",
   "language": "python",
   "name": "base"
  },
  "language_info": {
   "codemirror_mode": {
    "name": "ipython",
    "version": 3
   },
   "file_extension": ".py",
   "mimetype": "text/x-python",
   "name": "python",
   "nbconvert_exporter": "python",
   "pygments_lexer": "ipython3",
   "version": "3.6.4"
  }
 },
 "nbformat": 4,
 "nbformat_minor": 1
}
